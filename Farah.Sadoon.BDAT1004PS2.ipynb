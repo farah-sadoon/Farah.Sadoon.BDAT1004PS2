{
 "cells": [
  {
   "cell_type": "markdown",
   "id": "c0d4bd6f",
   "metadata": {},
   "source": [
    "# Problem Set 2\n",
    "BDAT 1004 - Data Programming\n",
    "\n",
    "\n",
    "Farah Sadoon 200574206"
   ]
  },
  {
   "cell_type": "markdown",
   "id": "1f90de30",
   "metadata": {},
   "source": [
    "<h3><font color='#004b87'>QUESTION 1 </font></h3>\n",
    "\n",
    "Consider the following Python module: \n",
    "\n",
    "    a=0\n",
    "    \n",
    "    def b(): \n",
    "        global a\n",
    "        a = c(a)\n",
    "    \n",
    "    def c(a):\n",
    "        return a + 2\n",
    "After importing the module into the interpreter, you execute: \n",
    "    \n",
    "    >>> b()\n",
    "    >>> b()\n",
    "    >>> b()\n",
    "    >>> a\n",
    "    ?\n",
    "\n",
    "What value is displayed when the last expression (a) is evaluated? Explain your answer by indicating what happens in every executed statement. "
   ]
  },
  {
   "cell_type": "markdown",
   "id": "7331787d",
   "metadata": {},
   "source": [
    "    The value 6 is displayed when the last expression (a) is evaluated. \n",
    "\n",
    "    The first time function b() is called, the value of global variable a is 0. When function b() is called, it refers to the global variable a and passes the value of a as a parameter into function c(), therefore the value passed into c is 0. When function c(a) is called, it returns the value of a + 2, which is 0 + 2 = 2.\n",
    "\n",
    "    The second time function b() is called, the global variable a has now been changed to 2, because function c(a) returns the value of a + 2 = 2. When function b() runs again, the value of a is 2, which is again passed to function c() as a parameter, which returns the value a + 2, or in this instance 2 + 2 = 4. \n",
    "\n",
    "    Finally, the third time function b() is called, global variable a has been changed to 4, according to the last calculation where function c(a) changed the variable to 2 + 2 = 4. Now that a = 4, b passes the value of a to c() as a parameter, which again returns the value of a + 2, which is 4 + 2 = 6."
   ]
  },
  {
   "cell_type": "code",
   "execution_count": 1,
   "id": "ecf04064",
   "metadata": {},
   "outputs": [],
   "source": [
    "a = 0\n",
    "def b(): \n",
    "    global a\n",
    "    a = c(a)\n",
    "    \n",
    "def c(a): \n",
    "    return a + 2"
   ]
  },
  {
   "cell_type": "code",
   "execution_count": 2,
   "id": "80b4f18e",
   "metadata": {},
   "outputs": [
    {
     "data": {
      "text/plain": [
       "6"
      ]
     },
     "execution_count": 2,
     "metadata": {},
     "output_type": "execute_result"
    }
   ],
   "source": [
    "b() \n",
    "b()\n",
    "b()\n",
    "a"
   ]
  },
  {
   "cell_type": "markdown",
   "id": "7e6812ab",
   "metadata": {},
   "source": [
    "<h3><font color='#004b87'>QUESTION 2 </font></h3>\n",
    "\n",
    "Function fileLength(), given to you, takes the name of a file as input and returns the length of the file: \n",
    "\n",
    "    >>> fileLength('midterm.py')\n",
    "    284\n",
    "    >>>fileLength('idterm.py')\n",
    "    Traceback (most recent call last): \n",
    "        File \"<pyshell#34>\", line 1, in <module>\n",
    "            fileLength('idterm.py')\n",
    "        File \"/Users/me/midterm.py\", line 3, in fileLength\n",
    "            infile = open(filename)\n",
    "    FileNotFoundError: [Errno 2] No such file or directory: \n",
    "    'idterm.py'\n",
    "\n",
    "As shown above, if the file cannot be found by the interpreter or if it cannot be read as a text file, an exception will be raised. Modify function fileLength() so that a friendly message is printed instead: \n",
    "\n",
    "    >>>fileLength('midterm.py')\n",
    "    358\n",
    "    >>>fileLength('idterm.py')\n",
    "    File idterm.py not found."
   ]
  },
  {
   "cell_type": "code",
   "execution_count": 3,
   "id": "64af20b8",
   "metadata": {},
   "outputs": [],
   "source": [
    "import os \n",
    "# setting working directory\n",
    "os.chdir('/Users/farahsadoon/Desktop/')\n",
    "\n",
    "def file_length(file_name):\n",
    "    try: \n",
    "        file = open(file_name)\n",
    "        contents = file.read()\n",
    "        file.close()\n",
    "        print(len(contents))\n",
    "    \n",
    "    except:\n",
    "        print(\"File\", file_name, \"not found.\")"
   ]
  },
  {
   "cell_type": "code",
   "execution_count": 4,
   "id": "86007982",
   "metadata": {},
   "outputs": [
    {
     "name": "stdout",
     "output_type": "stream",
     "text": [
      "358\n"
     ]
    }
   ],
   "source": [
    "file_length('midterm.py')"
   ]
  },
  {
   "cell_type": "code",
   "execution_count": 5,
   "id": "2acce4a2",
   "metadata": {},
   "outputs": [
    {
     "name": "stdout",
     "output_type": "stream",
     "text": [
      "File idterm.py not found.\n"
     ]
    }
   ],
   "source": [
    "file_length('idterm.py')"
   ]
  },
  {
   "cell_type": "markdown",
   "id": "739a4a29",
   "metadata": {},
   "source": [
    "<h3><font color='#004b87'>QUESTION 3 </font></h3>\n",
    "\n",
    "Write a class named Marsupial that can be used as shown below: \n",
    "\n",
    "    >>> m = Marsupial()\n",
    "    >>> m.put_in_pouch('doll')\n",
    "    >>> m.put_in_pouch('firetruck')\n",
    "    >>> m.put_in_pouch('kitten')\n",
    "    >>> m.pouch_contents()\n",
    "    ['doll', 'firetruck', 'kitten']\n",
    "\n",
    "Now write a class named Kangaroo as a subclass of Marsupial that inherits all the attributes of Marsupial and also: \n",
    "    \n",
    "a) _extends_ the Marsupial \\_\\_init_\\_ constructor to take, as input, the coordinates x and y of the Kangaroo object,\n",
    "\n",
    "b) _supports_ method jump that takes number values dx and dy as input and moves the kangaroo by dx units along the x-axis and by dy units along the y-axis, and\n",
    "\n",
    "c) _overloads_ the \\_\\_str_\\_ operator so it behaves as shown below.\n",
    "\n",
    "    >>> k = Kangaroo(0,0)\n",
    "    >>> print(k)\n",
    "    I am a Kangaroo located at coordinates (0,0)\n",
    "    >>> k.put_in_pouch('doll')\n",
    "    >>> k.put_in_pouch('firetruck')\n",
    "    >>> k.put_in_pouch('kitten')\n",
    "    >>> k.pouch_contents()\n",
    "    ['doll', 'firetruck', 'kitten']\n",
    "    >>> k.jump(1,0)\n",
    "    >>> k.jump(1,0)\n",
    "    >>> k.jump(1,0)\n",
    "    >>> print(k)\n",
    "    I am a Kangaroo located at coordinates (3,0)"
   ]
  },
  {
   "cell_type": "code",
   "execution_count": 6,
   "id": "6c163138",
   "metadata": {},
   "outputs": [],
   "source": [
    "class Marsupial:\n",
    "    def __init__(self):\n",
    "#         initializing pouch list\n",
    "        self.pouch = []\n",
    "    \n",
    "    def put_in_pouch(self, item): \n",
    "#         adding items to pouch list\n",
    "        self.pouch.append(item)\n",
    "        \n",
    "    def pouch_contents(self):\n",
    "        print(self.pouch)\n",
    "        \n",
    "class Kangaroo(Marsupial):\n",
    "    def __init__(self, x, y):\n",
    "#         redefining initialization of object with original pouch list, and distance of x and y coordinates\n",
    "        self.pouch = []\n",
    "#         default Kangaroo position is (0,0)\n",
    "        self.dx = 0\n",
    "        self.dy = 0\n",
    "        \n",
    "    def jump(self, x, y):\n",
    "#         adding coordinates to distance to move Kangaroo to new position\n",
    "        self.dx = self.dx + x\n",
    "        self.dy = self.dy + y\n",
    "        \n",
    "    def __str__(self): \n",
    "#         string interpolation used to print location of Kangaroo formatting as coordinates\n",
    "        return \"I am a Kangaroo located at {}\".format((self.dx, self.dy))\n"
   ]
  },
  {
   "cell_type": "code",
   "execution_count": 7,
   "id": "f074b0cb",
   "metadata": {},
   "outputs": [
    {
     "name": "stdout",
     "output_type": "stream",
     "text": [
      "['doll', 'firetruck', 'kitten']\n"
     ]
    }
   ],
   "source": [
    "m = Marsupial()\n",
    "m.put_in_pouch('doll')\n",
    "m.put_in_pouch('firetruck')\n",
    "m.put_in_pouch('kitten')\n",
    "m.pouch_contents()"
   ]
  },
  {
   "cell_type": "code",
   "execution_count": 8,
   "id": "3f8bb899",
   "metadata": {},
   "outputs": [
    {
     "name": "stdout",
     "output_type": "stream",
     "text": [
      "I am a Kangaroo located at (0, 0)\n"
     ]
    }
   ],
   "source": [
    "k = Kangaroo(0,0)\n",
    "print(k)"
   ]
  },
  {
   "cell_type": "code",
   "execution_count": 9,
   "id": "06852edd",
   "metadata": {},
   "outputs": [
    {
     "name": "stdout",
     "output_type": "stream",
     "text": [
      "['doll', 'firetruck', 'kitten']\n"
     ]
    }
   ],
   "source": [
    "k.put_in_pouch('doll')\n",
    "k.put_in_pouch('firetruck')\n",
    "k.put_in_pouch('kitten')\n",
    "k.pouch_contents()"
   ]
  },
  {
   "cell_type": "code",
   "execution_count": 10,
   "id": "fef2f9e2",
   "metadata": {},
   "outputs": [
    {
     "name": "stdout",
     "output_type": "stream",
     "text": [
      "I am a Kangaroo located at (3, 0)\n"
     ]
    }
   ],
   "source": [
    "k.jump(1,0)\n",
    "k.jump(1,0)\n",
    "k.jump(1,0)\n",
    "print(k)"
   ]
  },
  {
   "cell_type": "markdown",
   "id": "8e5bd7cb",
   "metadata": {},
   "source": [
    "<h3><font color='#004b87'>QUESTION 4 </font></h3>\n",
    "\n",
    "Write function collatz() that takes a positive integer x as input and prints the Collatz sequence starting at x. A Collatz sequence is obtained by repeatedly applying this rule to the previous number x in the sequence:\n",
    "\n",
    "<h5><center>$x = {x/2}$ if x is even</center></h5>\n",
    "\n",
    "<h5><center>$x = {3x + 1}$ if x is odd </center></h5>\n",
    "    \n",
    "Your function should be stop when the sequence gets to number 1. Your implementation must be recursive, without any loops.\n",
    "    \n",
    "    >>> collatz(1)\n",
    "    1\n",
    "    >>> collatz(10)\n",
    "    10\n",
    "    5\n",
    "    16\n",
    "    8\n",
    "    4\n",
    "    2\n",
    "    1"
   ]
  },
  {
   "cell_type": "code",
   "execution_count": 12,
   "id": "ee70f97d",
   "metadata": {},
   "outputs": [],
   "source": [
    "def collatz(x): \n",
    "#     setting base case, where x = 1\n",
    "    if x == 1: \n",
    "        print(int(x))\n",
    "    else: \n",
    "#         if x is even, divide x by 2 and run function collatz() again\n",
    "        if x % 2 == 0: \n",
    "            print(int(x))\n",
    "            collatz(x / 2)\n",
    "#         if x is odd, multiply x by 3, add 1 and run function collatz() again\n",
    "        else: \n",
    "            print(int(x))\n",
    "            collatz(x * 3 + 1)"
   ]
  },
  {
   "cell_type": "code",
   "execution_count": 13,
   "id": "3c01f311",
   "metadata": {},
   "outputs": [
    {
     "name": "stdout",
     "output_type": "stream",
     "text": [
      "1\n"
     ]
    }
   ],
   "source": [
    "collatz(1)"
   ]
  },
  {
   "cell_type": "code",
   "execution_count": 14,
   "id": "161a0153",
   "metadata": {},
   "outputs": [
    {
     "name": "stdout",
     "output_type": "stream",
     "text": [
      "10\n",
      "5\n",
      "16\n",
      "8\n",
      "4\n",
      "2\n",
      "1\n"
     ]
    }
   ],
   "source": [
    "collatz(10)"
   ]
  },
  {
   "cell_type": "markdown",
   "id": "4a59c51e",
   "metadata": {},
   "source": [
    "<h3><font color='#004b87'>QUESTION 5 </font></h3>\n",
    "\n",
    "Write a recursive method binary() that takes a non-negative integer n and prints the binary representation of integer n. \n",
    "\n",
    "    >>> binary(0)\n",
    "    0\n",
    "    >>> binary(1)\n",
    "    1\n",
    "    >>> binary(3)\n",
    "    11\n",
    "    >>> binary(9)\n",
    "    1001"
   ]
  },
  {
   "cell_type": "code",
   "execution_count": 21,
   "id": "cc0e6d8e",
   "metadata": {},
   "outputs": [],
   "source": [
    "# initializing conversion list and result string\n",
    "conversion = []\n",
    "result = \"\"\n",
    "\n",
    "def binary(n):    \n",
    "#     accessing conversion list and result string from within the function\n",
    "    global conversion\n",
    "    global result\n",
    "    \n",
    "#     setting base case, where the quotient of n floor division 2 is 0\n",
    "    if n // 2 == 0: \n",
    "#         if the remainder of n divided by 2 is 0, insert 0 to front of list\n",
    "        if n % 2 == 0:\n",
    "            conversion.insert(0,'0')\n",
    "            print(result.join(conversion))\n",
    "        else:\n",
    "            conversion.insert(0,'1')\n",
    "            print(result.join(conversion))\n",
    "    else:\n",
    "#         if the remainder of n divided by 2 is 0, insert 0 to front of list and run function binary() again where n is floor divided by 2\n",
    "        if n % 2 == 0: \n",
    "            conversion.insert(0,'0')\n",
    "            binary(n//2)\n",
    "        else: \n",
    "            conversion.insert(0,'1')\n",
    "            binary(n//2)\n",
    "\n",
    "# the following source was used to develop binary conversion algorithm'\n",
    "# https://www.rapidtables.com/convert/number/decimal-to-binary.html'"
   ]
  },
  {
   "cell_type": "code",
   "execution_count": 16,
   "id": "6aefcf22",
   "metadata": {},
   "outputs": [
    {
     "name": "stdout",
     "output_type": "stream",
     "text": [
      "0\n"
     ]
    }
   ],
   "source": [
    "binary(0)"
   ]
  },
  {
   "cell_type": "code",
   "execution_count": 18,
   "id": "b80246cc",
   "metadata": {},
   "outputs": [
    {
     "name": "stdout",
     "output_type": "stream",
     "text": [
      "1\n"
     ]
    }
   ],
   "source": [
    "binary(1)"
   ]
  },
  {
   "cell_type": "code",
   "execution_count": 20,
   "id": "78d68927",
   "metadata": {},
   "outputs": [
    {
     "name": "stdout",
     "output_type": "stream",
     "text": [
      "11\n"
     ]
    }
   ],
   "source": [
    "binary(3)"
   ]
  },
  {
   "cell_type": "code",
   "execution_count": 22,
   "id": "a0bb44fe",
   "metadata": {},
   "outputs": [
    {
     "name": "stdout",
     "output_type": "stream",
     "text": [
      "1001\n"
     ]
    }
   ],
   "source": [
    "binary(9)"
   ]
  },
  {
   "cell_type": "markdown",
   "id": "c9dd8641",
   "metadata": {},
   "source": [
    "<h3><font color='#004b87'>QUESTION 6 </font></h3>\n",
    "\n",
    "Implement a class named HeadingParser that can be used to parse an HTML document and retrieve and print all the headings in the document. You should implement your class as a subclass of HTMLParser, defined in Standard Library module html.parser. When fed a string containing HTML code, your class should print the headings, one per line and in the order in which they appear in the document. Each heading should be indented as follows: \n",
    "\n",
    "- h1 heading should have indentation 0\n",
    "- h2 heading should have indentation 1, etc. \n",
    "\n",
    "Test your implementation using w3c.html.\n",
    "\n",
    "    >>> infile = open('w3c.html')\n",
    "    >>> content = infile.read()\n",
    "    >>> infile.close()\n",
    "    >>> hp = Heading Parser()\n",
    "    >>> hp.feed(content)\n",
    "    W3C Mission\n",
    "        Principles"
   ]
  },
  {
   "cell_type": "code",
   "execution_count": 23,
   "id": "a99477e8",
   "metadata": {},
   "outputs": [],
   "source": [
    "from html.parser import HTMLParser \n",
    "\n",
    "class HeadingParser(HTMLParser):\n",
    "\n",
    "    def handle_data(self, data):\n",
    "#         removing all whitespace from data\n",
    "        data = data.strip()\n",
    "        \n",
    "#         searching for lasttag in each line of code per line\n",
    "#         printing with corresponding tab level\n",
    "        if self.lasttag == \"h1\":\n",
    "            print('\\t' * 0 + data)\n",
    "        elif self.lasttag == \"h2\": \n",
    "            print('\\t' * 1 + data)\n",
    "        elif self.lasttag == \"h3\": \n",
    "            print('\\t' * 2 + data)\n",
    "        elif self.lasttag == \"h4\": \n",
    "            print('\\t' * 3 + data)\n",
    "        elif self.lasttag == \"h5\": \n",
    "            print('\\t' * 4 + data)\n",
    "        elif self.lasttag == \"h6\": \n",
    "            print('\\t' * 5 + data)\n",
    "        \n",
    "#         the following sources were used for understanding html parser:\n",
    "#         https://stackoverflow.com/questions/16773583/python-extracting-specific-data-with-html-parser\n",
    "#         https://docs.python.org/3/library/html.parser.html#examples\n",
    "#         https://github.com/python/cpython/blob/f5e29f424597a970d7cfde3402891259e0e4c1dd/Lib/html/parser.py"
   ]
  },
  {
   "cell_type": "code",
   "execution_count": 24,
   "id": "031b679b",
   "metadata": {},
   "outputs": [
    {
     "name": "stdout",
     "output_type": "stream",
     "text": [
      "W3C Mission\n",
      "\n",
      "\tPrinciples\n",
      "\t\n",
      "\t\n"
     ]
    }
   ],
   "source": [
    "infile = open('w3c.html')\n",
    "content = infile.read()\n",
    "infile.close()\n",
    "hp = HeadingParser()\n",
    "hp.feed(content)"
   ]
  },
  {
   "cell_type": "markdown",
   "id": "6be0d290",
   "metadata": {},
   "source": [
    "<h3><font color='#004b87'>QUESTION 7 </font></h3>\n",
    "\n",
    "Implement recursive function webdir() that takes as input: a URL (as a string) and non-negative integers depth and indent. Your function should visit every web page reachable from the starting URL web page in depth clicks or less, and print each web page's URL. As shown below, indentation, specified by indent, should be used to indicate the depth of a URL. \n",
    "\n",
    "    >>> webdir('http://reed.cs.depaul.edu/lperkovic/csc242/test1.html' , 2, 0)\n",
    "    http://reed.cs.depaul.edu/lperkovic/csc242/test1.html\n",
    "        http://reed.cs.depaul.edu/lperkovic/csc242/test2.html\n",
    "            http://reed.cs.depaul.edu/lperkovic/csc242/test4.html\n",
    "        http://reed.cs.depaul.edu/lperkovic/csc242/test3.html\n",
    "            http://reed.cs.depaul.edu/lperkovic/csc242/test4.html"
   ]
  },
  {
   "cell_type": "code",
   "execution_count": 25,
   "id": "da261434",
   "metadata": {},
   "outputs": [],
   "source": [
    "from urllib.parse import urljoin\n",
    "from html.parser import HTMLParser\n",
    "class Collector(HTMLParser):\n",
    "    'collects hyperlink URLs into a list'\n",
    "\n",
    "    def __init__(self, url):\n",
    "        'initializes parser, the url, and a list'\n",
    "        HTMLParser.__init__(self)\n",
    "        self.url = url\n",
    "        self.links = []\n",
    "\n",
    "    def handle_starttag(self, tag, attrs):\n",
    "        'collects hyperlink URLs in their absolute format'\n",
    "        if tag == 'a':\n",
    "            for attr in attrs:\n",
    "                if attr[0] == 'href':\n",
    "                    # construct absolute URL\n",
    "                    absolute = urljoin(self.url, attr[1])\n",
    "                    if absolute[:4] == 'http': # collect HTTP URLs\n",
    "                        self.links.append(absolute)\n",
    "                        \n",
    "    def getLinks(self):\n",
    "        'returns hyperlinks URLs in their absolute format'\n",
    "        return self.links\n"
   ]
  },
  {
   "cell_type": "code",
   "execution_count": 28,
   "id": "16bfd8dc",
   "metadata": {},
   "outputs": [],
   "source": [
    "from urllib.request import urlopen\n",
    "visited = set()\n",
    "counter = 0\n",
    "\n",
    "def webdir(url, d, i): \n",
    "    global visited \n",
    "    global counter\n",
    "    # adding current value/instance of url to the visited set\n",
    "    visited.add(url)\n",
    "    \n",
    "    # setting indentation level\n",
    "    i += 1\n",
    "    \n",
    "    # opening url\n",
    "    resource = urlopen(url)\n",
    "    # setting content to reading and decoding what is in the url\n",
    "    content = resource.read().decode()\n",
    "    # creating new object of Collector class to parse through html\n",
    "    collector = Collector(url)\n",
    "    collector.feed(content)\n",
    "    # creating a list of all links read by parser\n",
    "    links = collector.getLinks()\n",
    "    \n",
    "    # setting counter as while loop condition (based on the value of the variable for depth, d)\n",
    "    counter += 1\n",
    "    while counter <= d:\n",
    "        # for each link in the list of links, strip the link of leading and trailing whitespace\n",
    "        try: \n",
    "            for link in links:\n",
    "                link = link.strip()\n",
    "\n",
    "                if link in visited: \n",
    "                    pass\n",
    "                # if the link is not in set visited, print the link with the indentation level specified by i, then run webdir() again with the current link\n",
    "                else: \n",
    "                    print('\\t' * i + link)\n",
    "                    webdir(link, d, i)\n",
    "        except:\n",
    "            continue"
   ]
  },
  {
   "cell_type": "code",
   "execution_count": 29,
   "id": "a1cf2ac4",
   "metadata": {},
   "outputs": [
    {
     "name": "stdout",
     "output_type": "stream",
     "text": [
      "\thttps://www.w3schools.com\n",
      "\t\thttps://profile.w3schools.com/log-in?redirect_url=https%3A%2F%2Fmy-learning.w3schools.com\n",
      "\t\thttps://billing.w3schools.com/products/spaces?frequency=monthly&changePlan=true\n",
      "\t\thttps://www.w3schools.com/signup/index.php\n",
      "\t\thttps://www.w3schools.com/spaces/index.php\n",
      "\t\thttps://www.w3schools.com/bootcamp/index.php\n",
      "\t\thttps://www.w3schools.com/videos/index.php\n",
      "\t\thttps://shop.w3schools.com\n",
      "\t\thttps://www.facebook.com/w3schoolscom/\n",
      "\t\thttps://www.instagram.com/w3schools.com_official/\n",
      "\t\thttps://www.linkedin.com/company/w3schools.com/\n",
      "\thttps://discord.gg/6Z7UaRbUQM\n"
     ]
    }
   ],
   "source": [
    "webdir('https://www.w3schools.com/python/', 2, 0)"
   ]
  },
  {
   "cell_type": "markdown",
   "id": "d37e89ec",
   "metadata": {},
   "source": [
    "<h3><font color='#004b87'>QUESTION 8 </font></h3>\n",
    "\n",
    "Write SQL queries on the below database table that return: \n",
    "\n",
    "a) All the temperature data. \n",
    "\n",
    "b) All the cities, but without repetition. \n",
    "\n",
    "c) All the records for India. \n",
    "\n",
    "d) All the Fall records. \n",
    "\n",
    "e) The city, country, and season for which the average rainfall is between 200 and 400 millimeters. \n",
    "\n",
    "f) The city and country for which the average Fall temperature is above 20 degrees, in increasing temperature order. \n",
    "\n",
    "g) The total annual rainfall for Cairo. \n",
    "\n",
    "h) The total rainfall for each season."
   ]
  },
  {
   "cell_type": "code",
   "execution_count": 30,
   "id": "799164ee",
   "metadata": {},
   "outputs": [
    {
     "data": {
      "text/plain": [
       "<sqlite3.Cursor at 0x7f8ea02e92c0>"
      ]
     },
     "execution_count": 30,
     "metadata": {},
     "output_type": "execute_result"
    }
   ],
   "source": [
    "import sqlite3\n",
    "# creating new database, web.db\n",
    "con = sqlite3.connect('web.db')\n",
    "# initializing cursor for database\n",
    "cur = con.cursor()\n",
    "\n",
    "cur.execute(\"DROP TABLE World\")\n",
    "# creating new table World in database web.db with column headings\n",
    "cur.execute(\"CREATE TABLE World ('City', 'Country', 'Season', 'Temperature (C)', 'Rainfall (mm)')\")\n",
    "# adding data for city Mumbai\n",
    "cur.execute(\"INSERT INTO World VALUES ('Mumbai', 'India', 'Winter', 24.8, 5.9), ('Mumbai', 'India', 'Spring', 28.4, 5.9), ('Mumbai', 'India', 'Summer', 27.9, 1549.4), ('Mumbai', 'India', 'Fall', 27.6, 246.0)\")\n",
    "# adding data for city London\n",
    "cur.execute(\"INSERT INTO World VALUES ('London', 'United Kingdom', 'Winter', 4.2, 207.7), ('London', 'United Kingdom', 'Spring', 8.3, 169.6), ('London', 'United Kingdom', 'Summer', 15.7, 157.0), ('London', 'United Kingdom', 'Fall', 10.4, 218.5)\")\n",
    "# adding data for city Cairo\n",
    "cur.execute(\"INSERT INTO World VALUES ('Cairo', 'Egypt', 'Winter', 13.6, 16.5), ('Cairo', 'Egypt', 'Spring', 20.7, 6.5), ('Cairo', 'Egypt', 'Summer', 27.7, 0.1), ('Cairo', 'Egypt', 'Fall', 22.2, 4.5)\")"
   ]
  },
  {
   "cell_type": "code",
   "execution_count": 31,
   "id": "e1d641b2",
   "metadata": {},
   "outputs": [
    {
     "name": "stdout",
     "output_type": "stream",
     "text": [
      "[('Mumbai', 'India', 'Winter', 24.8, 5.9), ('Mumbai', 'India', 'Spring', 28.4, 5.9), ('Mumbai', 'India', 'Summer', 27.9, 1549.4), ('Mumbai', 'India', 'Fall', 27.6, 246.0), ('London', 'United Kingdom', 'Winter', 4.2, 207.7), ('London', 'United Kingdom', 'Spring', 8.3, 169.6), ('London', 'United Kingdom', 'Summer', 15.7, 157.0), ('London', 'United Kingdom', 'Fall', 10.4, 218.5), ('Cairo', 'Egypt', 'Winter', 13.6, 16.5), ('Cairo', 'Egypt', 'Spring', 20.7, 6.5), ('Cairo', 'Egypt', 'Summer', 27.7, 0.1), ('Cairo', 'Egypt', 'Fall', 22.2, 4.5)]\n"
     ]
    }
   ],
   "source": [
    "# a) All the temperature data\n",
    "cur.execute(\"SELECT * FROM World\")\n",
    "print(cur.fetchall())"
   ]
  },
  {
   "cell_type": "code",
   "execution_count": 32,
   "id": "ec459f7f",
   "metadata": {},
   "outputs": [
    {
     "name": "stdout",
     "output_type": "stream",
     "text": [
      "[('Mumbai',), ('London',), ('Cairo',)]\n"
     ]
    }
   ],
   "source": [
    "# b) All the cities, but without repetition\n",
    "cur.execute(\"SELECT DISTINCT City FROM World\")\n",
    "\n",
    "print(cur.fetchall())"
   ]
  },
  {
   "cell_type": "code",
   "execution_count": 33,
   "id": "e82d0433",
   "metadata": {},
   "outputs": [
    {
     "name": "stdout",
     "output_type": "stream",
     "text": [
      "[('Mumbai', 'India', 'Winter', 24.8, 5.9), ('Mumbai', 'India', 'Spring', 28.4, 5.9), ('Mumbai', 'India', 'Summer', 27.9, 1549.4), ('Mumbai', 'India', 'Fall', 27.6, 246.0)]\n"
     ]
    }
   ],
   "source": [
    "# c) All the records for India\n",
    "cur.execute(\"SELECT * FROM World WHERE City = 'Mumbai'\")\n",
    "print(cur.fetchall())"
   ]
  },
  {
   "cell_type": "code",
   "execution_count": 34,
   "id": "8b8e492c",
   "metadata": {},
   "outputs": [
    {
     "name": "stdout",
     "output_type": "stream",
     "text": [
      "[('Mumbai', 'India', 'Fall', 27.6, 246.0), ('London', 'United Kingdom', 'Fall', 10.4, 218.5), ('Cairo', 'Egypt', 'Fall', 22.2, 4.5)]\n"
     ]
    }
   ],
   "source": [
    "# d) All the Fall Records\n",
    "cur.execute(\"SELECT * FROM World WHERE Season = 'Fall'\")\n",
    "print(cur.fetchall())"
   ]
  },
  {
   "cell_type": "code",
   "execution_count": 35,
   "id": "2250634d",
   "metadata": {},
   "outputs": [
    {
     "name": "stdout",
     "output_type": "stream",
     "text": [
      "[('Mumbai', 'India', 'Fall'), ('London', 'United Kingdom', 'Winter'), ('London', 'United Kingdom', 'Fall')]\n"
     ]
    }
   ],
   "source": [
    "# e) The city, country, and season for which the average rain fall is between 200 and 400 millimeters\n",
    "cur.execute(\"SELECT City, Country, Season FROM World WHERE [Rainfall (mm)] BETWEEN 200 AND 400\")\n",
    "print(cur.fetchall())"
   ]
  },
  {
   "cell_type": "code",
   "execution_count": 36,
   "id": "837dcdeb",
   "metadata": {},
   "outputs": [
    {
     "name": "stdout",
     "output_type": "stream",
     "text": [
      "[('Cairo', 'Egypt'), ('Mumbai', 'India')]\n"
     ]
    }
   ],
   "source": [
    "# f) The city and country for which the average Fall temperature is above 20 degrees, in increasing temperature order.\n",
    "cur.execute(\"SELECT City, Country FROM World WHERE Season = 'Fall' AND [Temperature (C)] > 20 ORDER BY [Temperature (C)]\")\n",
    "print(cur.fetchall())"
   ]
  },
  {
   "cell_type": "code",
   "execution_count": 37,
   "id": "d5865856",
   "metadata": {},
   "outputs": [
    {
     "name": "stdout",
     "output_type": "stream",
     "text": [
      "[(27.6,)]\n"
     ]
    }
   ],
   "source": [
    "# g) The total annual rainfall for Cairo\n",
    "cur.execute(\"SELECT SUM([Rainfall (mm)]) FROM World WHERE City = 'Cairo'\")\n",
    "print(cur.fetchall())"
   ]
  },
  {
   "cell_type": "code",
   "execution_count": 38,
   "id": "b38c1607",
   "metadata": {},
   "outputs": [
    {
     "name": "stdout",
     "output_type": "stream",
     "text": [
      "[(469.0,), (182.0,), (1706.5,), (230.1,)]\n"
     ]
    }
   ],
   "source": [
    "# h) The total rainfall for each season\n",
    "cur.execute(\"SELECT SUM([Rainfall (mm)]) FROM World GROUP BY Season\")\n",
    "print(cur.fetchall())"
   ]
  },
  {
   "cell_type": "markdown",
   "id": "4fc42134",
   "metadata": {},
   "source": [
    "<h3><font color='#004b87'>QUESTION 9 </font></h3>\n",
    "\n",
    "Suppose list words is defined as follows: \n",
    "\n",
    "    >>> words = ['The', 'quick', 'brown', 'fox', 'jumps', 'over', 'the', 'lazy', 'dog']\n",
    "\n",
    "Write list comprehension expressions that use list words and generate the following lists: \n",
    "\n",
    "a) ['THE', 'QUICK', 'BROWN', 'FOX', 'JUMPS', 'OVER', 'THE', LAZY', 'DOG']\n",
    "\n",
    "b) ['the', 'quick', 'brown', 'fox', 'jumps', 'over', 'the', 'lazy', 'dog']\n",
    "\n",
    "c) [3, 5, 5, 3, 5, 4, 3, 4, 3] (the list of lengths of words in list words)\n",
    "\n",
    "d) [['THE', 'the', 3], ['QUICK', 'quick', 5], ['BROWN', 'brown', 5], ['FOX', fox' 3], ['JUMPS', 'jumps', 5], ['OVER', 'over', 4], ['THE', 'the', 3], ['LAZY', 'lazy', 4], ['DOG', 'dog', 3]] (the list containing a list for every word of list words, where each list contains the word in uppercase and lowercase and the length of the word.)\n",
    "\n",
    "e) ['quick', 'brown', 'jumps', 'over', lazy'] (the list of words in list words containing 4 or more characters.)"
   ]
  },
  {
   "cell_type": "code",
   "execution_count": 39,
   "id": "9b9de3e3",
   "metadata": {},
   "outputs": [],
   "source": [
    "# Defining original list words\n",
    "words = ['The', 'quick', 'brown', 'fox', 'jumps', 'over', 'the', 'lazy', 'dog']"
   ]
  },
  {
   "cell_type": "code",
   "execution_count": 40,
   "id": "2435cff5",
   "metadata": {},
   "outputs": [
    {
     "data": {
      "text/plain": [
       "['THE', 'QUICK', 'BROWN', 'FOX', 'JUMPS', 'OVER', 'THE', 'LAZY', 'DOG']"
      ]
     },
     "execution_count": 40,
     "metadata": {},
     "output_type": "execute_result"
    }
   ],
   "source": [
    "# a) Creating a new list with only uppercase letters \n",
    "words_uppercase = [word.upper() for word in words]\n",
    "words_uppercase"
   ]
  },
  {
   "cell_type": "code",
   "execution_count": 41,
   "id": "a252b5ab",
   "metadata": {},
   "outputs": [
    {
     "data": {
      "text/plain": [
       "['the', 'quick', 'brown', 'fox', 'jumps', 'over', 'the', 'lazy', 'dog']"
      ]
     },
     "execution_count": 41,
     "metadata": {},
     "output_type": "execute_result"
    }
   ],
   "source": [
    "# b) Creating a new list with only lowercase letters\n",
    "words_lowercase = [word.lower() for word in words]\n",
    "words_lowercase"
   ]
  },
  {
   "cell_type": "code",
   "execution_count": 42,
   "id": "c2839f0a",
   "metadata": {},
   "outputs": [
    {
     "data": {
      "text/plain": [
       "[3, 5, 5, 3, 5, 4, 3, 4, 3]"
      ]
     },
     "execution_count": 42,
     "metadata": {},
     "output_type": "execute_result"
    }
   ],
   "source": [
    "# c) Creating a new list with lengths of words in list words \n",
    "words_length = [len(word) for word in words]\n",
    "words_length"
   ]
  },
  {
   "cell_type": "code",
   "execution_count": 43,
   "id": "81de322f",
   "metadata": {},
   "outputs": [
    {
     "data": {
      "text/plain": [
       "[['THE', 'the', 3],\n",
       " ['QUICK', 'quick', 5],\n",
       " ['BROWN', 'brown', 5],\n",
       " ['FOX', 'fox', 3],\n",
       " ['JUMPS', 'jumps', 5],\n",
       " ['OVER', 'over', 4],\n",
       " ['THE', 'the', 3],\n",
       " ['LAZY', 'lazy', 4],\n",
       " ['DOG', 'dog', 3]]"
      ]
     },
     "execution_count": 43,
     "metadata": {},
     "output_type": "execute_result"
    }
   ],
   "source": [
    "# d) Creating a new list containing a list for every word of list words, where each list contains the word in uppercase and lowercase and the length of the word\n",
    "words_list = [[word.upper(), word.lower(), len(word)] for word in words]\n",
    "words_list\n",
    "\n",
    "# the following source was used to understand nested list comprehension\n",
    "# https://www.geeksforgeeks.org/nested-list-comprehensions-in-python/"
   ]
  },
  {
   "cell_type": "code",
   "execution_count": 44,
   "id": "f27d5780",
   "metadata": {},
   "outputs": [
    {
     "data": {
      "text/plain": [
       "['quick', 'brown', 'jumps', 'over', 'lazy']"
      ]
     },
     "execution_count": 44,
     "metadata": {},
     "output_type": "execute_result"
    }
   ],
   "source": [
    "# e) Creating a new list containing words in list words that have 4 or more characters\n",
    "words_four = [word for word in words if len(word) >= 4]\n",
    "words_four"
   ]
  }
 ],
 "metadata": {
  "kernelspec": {
   "display_name": "Python 3 (ipykernel)",
   "language": "python",
   "name": "python3"
  },
  "language_info": {
   "codemirror_mode": {
    "name": "ipython",
    "version": 3
   },
   "file_extension": ".py",
   "mimetype": "text/x-python",
   "name": "python",
   "nbconvert_exporter": "python",
   "pygments_lexer": "ipython3",
   "version": "3.10.9"
  }
 },
 "nbformat": 4,
 "nbformat_minor": 5
}
